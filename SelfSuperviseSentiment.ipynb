{
  "nbformat": 4,
  "nbformat_minor": 0,
  "metadata": {
    "colab": {
      "name": "SelfSuperviserSentiment.ipynb",
      "provenance": [],
      "authorship_tag": "ABX9TyPChEuYscWhsME5vdpHjXBe",
      "include_colab_link": true
    },
    "kernelspec": {
      "name": "python3",
      "display_name": "Python 3"
    },
    "language_info": {
      "name": "python"
    },
    "accelerator": "GPU"
  },
  "cells": [
    {
      "cell_type": "markdown",
      "metadata": {
        "id": "view-in-github",
        "colab_type": "text"
      },
      "source": [
        "<a href=\"https://colab.research.google.com/github/ShesterG/machine_learning/blob/master/SelfSuperviseSentiment.ipynb\" target=\"_parent\"><img src=\"https://colab.research.google.com/assets/colab-badge.svg\" alt=\"Open In Colab\"/></a>"
      ]
    },
    {
      "cell_type": "code",
      "metadata": {
        "colab": {
          "base_uri": "https://localhost:8080/"
        },
        "id": "at5wNC7xSJmg",
        "outputId": "c0f52406-ffe8-44b9-da65-0f6360d95542"
      },
      "source": [
        "#clone repo\n",
        "!git clone https://github.com/sazzadcsedu/SSentiA.git\n"
      ],
      "execution_count": 1,
      "outputs": [
        {
          "output_type": "stream",
          "text": [
            "Cloning into 'SSentiA'...\n",
            "remote: Enumerating objects: 42, done.\u001b[K\n",
            "remote: Counting objects: 100% (42/42), done.\u001b[K\n",
            "remote: Compressing objects: 100% (41/41), done.\u001b[K\n",
            "remote: Total 42 (delta 19), reused 0 (delta 0), pack-reused 0\u001b[K\n",
            "Unpacking objects: 100% (42/42), done.\n"
          ],
          "name": "stdout"
        }
      ]
    },
    {
      "cell_type": "code",
      "metadata": {
        "colab": {
          "base_uri": "https://localhost:8080/",
          "height": 35
        },
        "id": "GOZPq3QrV86w",
        "outputId": "30da6629-790b-449a-8a1b-3860fa9326e6"
      },
      "source": [
        "pwd"
      ],
      "execution_count": 6,
      "outputs": [
        {
          "output_type": "execute_result",
          "data": {
            "application/vnd.google.colaboratory.intrinsic+json": {
              "type": "string"
            },
            "text/plain": [
              "'/content'"
            ]
          },
          "metadata": {
            "tags": []
          },
          "execution_count": 6
        }
      ]
    },
    {
      "cell_type": "code",
      "metadata": {
        "colab": {
          "base_uri": "https://localhost:8080/"
        },
        "id": "6z7TZpu5T0R5",
        "outputId": "3d76fcdd-16ed-47bc-baea-4834a33fff53"
      },
      "source": [
        "!python /content/SSentiA/LRSentiA.py"
      ],
      "execution_count": 3,
      "outputs": [
        {
          "output_type": "stream",
          "text": [
            "Traceback (most recent call last):\n",
            "  File \"/content/SSentiA/LRSentiA.py\", line 549, in <module>\n",
            "    if __name__ == main():\n",
            "  File \"/content/SSentiA/LRSentiA.py\", line 544, in main\n",
            "    predictions, pred_confidence_scores = lexicalAnalyzer.classify_binary_dataset(data,label)\n",
            "  File \"/content/SSentiA/LRSentiA.py\", line 211, in classify_binary_dataset\n",
            "    Y_label = Y_label.astype('int')\n",
            "ValueError: cannot convert float NaN to integer\n"
          ],
          "name": "stdout"
        }
      ]
    }
  ]
}